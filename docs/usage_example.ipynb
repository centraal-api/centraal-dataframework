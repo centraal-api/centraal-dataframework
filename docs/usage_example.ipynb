{
 "cells": [
  {
   "cell_type": "code",
   "execution_count": 1,
   "metadata": {},
   "outputs": [],
   "source": [
    "%load_ext autoreload\n",
    "%autoreload 2"
   ]
  },
  {
   "cell_type": "code",
   "execution_count": 2,
   "metadata": {},
   "outputs": [],
   "source": [
    "# remover comentarios si sed quiere instalar la libreria \n",
    "# publicada en pipy\n",
    "#%pip uninstall azure-datalake-utils -y\n",
    "#%pip install -i https://test.pypi.org/simple/ --extra-index-url=https://pypi.org/simple azure-datalake-utils==0.2.0.dev23\n",
    "#%pip show azure-datalake-utils"
   ]
  },
  {
   "cell_type": "code",
   "execution_count": 2,
   "metadata": {},
   "outputs": [],
   "source": [
    "import sys\n",
    "\n",
    "import pandas as pd\n",
    "\n",
    "sys.path.append('../')"
   ]
  },
  {
   "cell_type": "code",
   "execution_count": null,
   "metadata": {},
   "outputs": [],
   "source": [
    "# task_module.py\n",
    "\n",
    "# Step 1: Define the task decorator\n",
    "task_registry = []\n",
    "\n",
    "def task(func):\n",
    "    task_registry.append(func)\n",
    "    return func\n",
    "\n",
    "# Step 4: Provide a way to run all registered tasks\n",
    "def run_tasks():\n",
    "    for task_func in task_registry:\n",
    "        task_func()\n",
    "\n",
    "# Example usage of the module\n",
    "\n",
    "# Usage:\n",
    "# Import the module in another script\n",
    "# from task_module import task, run_tasks\n",
    "\n",
    "# Decorate tasks\n",
    "@task\n",
    "def greet():\n",
    "    print(\"Hello, World!\")"
   ]
  }
 ],
 "metadata": {
  "kernelspec": {
   "display_name": "Python 3.8.10 ('adl_utils')",
   "language": "python",
   "name": "python3"
  },
  "language_info": {
   "codemirror_mode": {
    "name": "ipython",
    "version": 3
   },
   "file_extension": ".py",
   "mimetype": "text/x-python",
   "name": "python",
   "nbconvert_exporter": "python",
   "pygments_lexer": "ipython3",
   "version": "3.8.10"
  },
  "orig_nbformat": 4,
  "vscode": {
   "interpreter": {
    "hash": "743db36a5e4e3179dc25f5e4accad7188f145bc728d3a3aad7b939caec0a0c20"
   }
  }
 },
 "nbformat": 4,
 "nbformat_minor": 2
}
