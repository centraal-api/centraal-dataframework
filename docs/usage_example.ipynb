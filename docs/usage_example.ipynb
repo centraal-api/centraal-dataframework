{
 "cells": [
  {
   "cell_type": "code",
   "execution_count": 1,
   "metadata": {},
   "outputs": [],
   "source": [
    "%load_ext autoreload\n",
    "%autoreload 2"
   ]
  },
  {
   "cell_type": "code",
   "execution_count": 2,
   "metadata": {},
   "outputs": [],
   "source": [
    "# remover comentarios si sed quiere instalar la libreria \n",
    "# publicada en pipy\n",
    "#%pip uninstall azure-datalake-utils -y\n",
    "#%pip install -i https://test.pypi.org/simple/ --extra-index-url=https://pypi.org/simple azure-datalake-utils==0.2.0.dev23\n",
    "#%pip show azure-datalake-utils"
   ]
  },
  {
   "cell_type": "code",
   "execution_count": 3,
   "metadata": {},
   "outputs": [],
   "source": [
    "import logging\n",
    "import sys\n",
    "sys.path.append('../')\n",
    "logger = logging.getLogger()\n",
    "logger.setLevel(logging.INFO)"
   ]
  },
  {
   "cell_type": "markdown",
   "metadata": {},
   "source": [
    "Asegurar crear primero el archivo `.env` con las siguientes variables de ambiente:\n",
    "```\n",
    "datalake=\"nombre_datalake_cuenta\"\n",
    "datalake_key=\"xxxkey_datalake_cuenta_zxccxxcx\"\n",
    "````"
   ]
  },
  {
   "cell_type": "code",
   "execution_count": 4,
   "metadata": {},
   "outputs": [
    {
     "data": {
      "text/plain": [
       "True"
      ]
     },
     "execution_count": 4,
     "metadata": {},
     "output_type": "execute_result"
    }
   ],
   "source": [
    "from dotenv import load_dotenv\n",
    "load_dotenv()"
   ]
  },
  {
   "cell_type": "code",
   "execution_count": 5,
   "metadata": {},
   "outputs": [],
   "source": [
    "from centraal_dataframework.resources import datalake\n",
    "info = datalake.read_csv(\"test/test_framework.csv\", sep=\"|\")"
   ]
  },
  {
   "cell_type": "code",
   "execution_count": 25,
   "metadata": {},
   "outputs": [],
   "source": [
    "import great_expectations as gx\n",
    "\n",
    "context = gx.get_context(mode = \"ephemeral\")\n",
    "datasource = context.sources.add_pandas(name=\"my_pandas_datasource\")\n",
    "data_asset = datasource.add_dataframe_asset(name=\"test\")\n",
    "my_batch_request = data_asset.build_batch_request(dataframe=info)"
   ]
  },
  {
   "cell_type": "code",
   "execution_count": 26,
   "metadata": {},
   "outputs": [
    {
     "name": "stderr",
     "output_type": "stream",
     "text": [
      "/home/german/repos/centraal-dataframework/.venv/lib/python3.8/site-packages/great_expectations/expectations/expectation.py:1481: UserWarning: `result_format` configured at the Validator-level will not be persisted. Please add the configuration to your Checkpoint config or checkpoint_run() method instead.\n",
      "  warnings.warn(\n"
     ]
    },
    {
     "data": {
      "application/vnd.jupyter.widget-view+json": {
       "model_id": "552041ed29584c4ca202475aecbbbf80",
       "version_major": 2,
       "version_minor": 0
      },
      "text/plain": [
       "Calculating Metrics:   0%|          | 0/6 [00:00<?, ?it/s]"
      ]
     },
     "metadata": {},
     "output_type": "display_data"
    }
   ],
   "source": [
    "context.add_or_update_expectation_suite(\"my_expectation_suite\")\n",
    "validator = context.get_validator(\n",
    "    batch_request=my_batch_request,\n",
    "    expectation_suite_name=\"my_expectation_suite\",\n",
    ")\n",
    "validator.expect_column_values_to_not_be_null(\"Producto\")\n",
    "validator.save_expectation_suite()"
   ]
  },
  {
   "cell_type": "code",
   "execution_count": 27,
   "metadata": {},
   "outputs": [
    {
     "data": {
      "application/vnd.jupyter.widget-view+json": {
       "model_id": "fd9cdaba2af94a418251df51f2f8dab2",
       "version_major": 2,
       "version_minor": 0
      },
      "text/plain": [
       "Calculating Metrics:   0%|          | 0/8 [00:00<?, ?it/s]"
      ]
     },
     "metadata": {},
     "output_type": "display_data"
    }
   ],
   "source": [
    "checkpoint = context.add_or_update_checkpoint(\n",
    "    name=\"my_checkpoint\",\n",
    "    validations=[\n",
    "        {\n",
    "            \"batch_request\": my_batch_request,\n",
    "            \"expectation_suite_name\": \"my_expectation_suite\",\n",
    "        },\n",
    "    ],\n",
    ")\n",
    "checkpoint_result = checkpoint.run()"
   ]
  },
  {
   "cell_type": "code",
   "execution_count": 28,
   "metadata": {},
   "outputs": [
    {
     "name": "stderr",
     "output_type": "stream",
     "text": [
      "Start : This command cannot be run due to the error: The system cannot find the file specified.\n",
      "At line:1 char:1\n",
      "+ Start \"file:///tmp/tmpd3pptoh6/validations/my_expectation_suite/__non ...\n",
      "+ ~~~~~~~~~~~~~~~~~~~~~~~~~~~~~~~~~~~~~~~~~~~~~~~~~~~~~~~~~~~~~~~~~~~~~\n",
      "    + CategoryInfo          : InvalidOperation: (:) [Start-Process], InvalidOperationException\n",
      "    + FullyQualifiedErrorId : InvalidOperationException,Microsoft.PowerShell.Commands.StartProcessCommand\n",
      " \n"
     ]
    }
   ],
   "source": [
    "context.view_validation_result(checkpoint_result)"
   ]
  },
  {
   "cell_type": "markdown",
   "metadata": {},
   "source": [
    "Crear el modulo con la logica, en la siguiente celda se configura una logica de pandas."
   ]
  },
  {
   "cell_type": "code",
   "execution_count": 5,
   "metadata": {},
   "outputs": [
    {
     "name": "stdout",
     "output_type": "stream",
     "text": [
      "Overwriting logica_pandas.py\n"
     ]
    }
   ],
   "source": [
    "%%writefile logica_pandas.py\n",
    "\"\"\"Prueba.\"\"\"\n",
    "from centraal_dataframework.tasks import task\n",
    "\n",
    "\n",
    "@task\n",
    "def hello_datalake(datalake, logger):\n",
    "    \"\"\"Saluda al datalake.\"\"\"\n",
    "    source = datalake.read_csv(\"test/test_framework.csv\", sep=\"|\")\n",
    "    logger.info(source.head(1))\n",
    "    logger.info(\"hello there, iam a task\")\n"
   ]
  },
  {
   "cell_type": "markdown",
   "metadata": {},
   "source": [
    "O puedes crear una estructura mas compleja de modulos. en la siguiente celda se crea un modulo dentro de otra carpeta y se usa un decorador para poder usar great expectations."
   ]
  },
  {
   "cell_type": "code",
   "execution_count": 6,
   "metadata": {},
   "outputs": [
    {
     "name": "stdout",
     "output_type": "stream",
     "text": [
      "mkdir: cannot create directory ‘modulo’: File exists\n"
     ]
    }
   ],
   "source": [
    "%mkdir modulo"
   ]
  },
  {
   "cell_type": "code",
   "execution_count": 7,
   "metadata": {},
   "outputs": [
    {
     "name": "stdout",
     "output_type": "stream",
     "text": [
      "Overwriting modulo/__init__.py\n"
     ]
    }
   ],
   "source": [
    "%%writefile modulo/__init__.py\n",
    "\"\"\"Prueba.\"\"\""
   ]
  },
  {
   "cell_type": "code",
   "execution_count": 8,
   "metadata": {},
   "outputs": [
    {
     "name": "stdout",
     "output_type": "stream",
     "text": [
      "Overwriting modulo/logica_gx.py\n"
     ]
    }
   ],
   "source": [
    "%%writefile modulo/logica_gx.py\n",
    "\"\"\"Prueba gx.\"\"\"\n",
    "from centraal_dataframework.tasks import task_dq\n",
    "\n",
    "\n",
    "@task_dq\n",
    "def hello_gx(datalake, datasource, logger):\n",
    "    \"\"\"Saluda al gx.\"\"\"\n",
    "    source = datalake.read_csv(\"test/test_framework.csv\", sep=\"|\")\n",
    "    logger.info(source.head(1))\n",
    "    logger.info(\"hello there, iam a task\")\n",
    "\n",
    "\n",
    "@task_dq(source_name=\"logica_negocio\")\n",
    "def hello_gx_negocio(datalake, datasource, logger):\n",
    "    \"\"\"Saluda al gx con logica.\"\"\"\n",
    "    source = datalake.read_csv(\"test/test_framework.csv\", sep=\"|\")\n",
    "    logger.info(source.head(1))\n",
    "    logger.info(\"hello there, iam a task\")\n"
   ]
  },
  {
   "cell_type": "markdown",
   "metadata": {},
   "source": [
    "A continuación un se muestra el contenido que debe tener `function_app.py`"
   ]
  },
  {
   "cell_type": "code",
   "execution_count": 9,
   "metadata": {},
   "outputs": [],
   "source": [
    "# contenido de function_app.py\n",
    "import azure.functions as func\n",
    "from centraal_dataframework.blueprints import framework\n",
    "# se deben importar las funciones, ejemplo todas las funciones dentro\n",
    "# de uno\n",
    "from logica_pandas import *\n",
    "# o se pueden importar uno a uno\n",
    "from modulo.logica_gx import hello_gx\n",
    "from modulo.logica_gx import hello_gx_negocio\n",
    "\n",
    "app = func.FunctionApp()\n",
    "# se agrega el framework:\n",
    "app.register_functions(framework)"
   ]
  },
  {
   "cell_type": "markdown",
   "metadata": {},
   "source": [
    "Realizar test dentro del notebook."
   ]
  },
  {
   "cell_type": "code",
   "execution_count": 10,
   "metadata": {},
   "outputs": [
    {
     "name": "stderr",
     "output_type": "stream",
     "text": [
      "se presento error en otra_cosa\n",
      "Traceback (most recent call last):\n",
      "  File \"/home/german/repos/centraal-dataframework/centraal_dataframework/blueprints.py\", line 62, in execute_tasks_inqueue\n",
      "    func_to_execute()\n",
      "TypeError: 'NoneType' object is not callable\n"
     ]
    },
    {
     "ename": "ErrorEnTarea",
     "evalue": "Se encontro un error en otra_cosa.",
     "output_type": "error",
     "traceback": [
      "\u001b[0;31m---------------------------------------------------------------------------\u001b[0m",
      "\u001b[0;31mTypeError\u001b[0m                                 Traceback (most recent call last)",
      "File \u001b[0;32m~/repos/centraal-dataframework/centraal_dataframework/blueprints.py:62\u001b[0m, in \u001b[0;36mexecute_tasks_inqueue\u001b[0;34m(msg)\u001b[0m\n\u001b[1;32m     61\u001b[0m \u001b[39mtry\u001b[39;00m:\n\u001b[0;32m---> 62\u001b[0m     func_to_execute()\n\u001b[1;32m     63\u001b[0m \u001b[39mexcept\u001b[39;00m \u001b[39mException\u001b[39;00m \u001b[39mas\u001b[39;00m error_tarea:\n",
      "\u001b[0;31mTypeError\u001b[0m: 'NoneType' object is not callable",
      "\nThe above exception was the direct cause of the following exception:\n",
      "\u001b[0;31mErrorEnTarea\u001b[0m                              Traceback (most recent call last)",
      "\u001b[1;32m/home/german/repos/centraal-dataframework/docs/usage_example.ipynb Cell 15\u001b[0m line \u001b[0;36m5\n\u001b[1;32m      <a href='vscode-notebook-cell://wsl%2Bubuntu/home/german/repos/centraal-dataframework/docs/usage_example.ipynb#W5sdnNjb2RlLXJlbW90ZQ%3D%3D?line=2'>3</a>\u001b[0m queue_trigger \u001b[39m=\u001b[39m app\u001b[39m.\u001b[39mget_functions()[\u001b[39m1\u001b[39m]\u001b[39m.\u001b[39mget_user_function()\n\u001b[1;32m      <a href='vscode-notebook-cell://wsl%2Bubuntu/home/german/repos/centraal-dataframework/docs/usage_example.ipynb#W5sdnNjb2RlLXJlbW90ZQ%3D%3D?line=3'>4</a>\u001b[0m \u001b[39m# simular la ejecucion de la tarea.\u001b[39;00m\n\u001b[0;32m----> <a href='vscode-notebook-cell://wsl%2Bubuntu/home/german/repos/centraal-dataframework/docs/usage_example.ipynb#W5sdnNjb2RlLXJlbW90ZQ%3D%3D?line=4'>5</a>\u001b[0m queue_trigger(QueueMessage(body \u001b[39m=\u001b[39;49m \u001b[39mbytes\u001b[39;49m(\u001b[39m\"\u001b[39;49m\u001b[39motra_cosa\u001b[39;49m\u001b[39m\"\u001b[39;49m,  \u001b[39m\"\u001b[39;49m\u001b[39mutf-8\u001b[39;49m\u001b[39m\"\u001b[39;49m)))\n",
      "File \u001b[0;32m~/repos/centraal-dataframework/centraal_dataframework/blueprints.py:66\u001b[0m, in \u001b[0;36mexecute_tasks_inqueue\u001b[0;34m(msg)\u001b[0m\n\u001b[1;32m     64\u001b[0m logger\u001b[39m.\u001b[39merror(\u001b[39m\"\u001b[39m\u001b[39mse presento error en \u001b[39m\u001b[39m%s\u001b[39;00m\u001b[39m\"\u001b[39m, task_name, exc_info\u001b[39m=\u001b[39m\u001b[39mTrue\u001b[39;00m)\n\u001b[1;32m     65\u001b[0m \u001b[39m# TODO: enviar correo\u001b[39;00m\n\u001b[0;32m---> 66\u001b[0m \u001b[39mraise\u001b[39;00m ErrorEnTarea(task_name) \u001b[39mfrom\u001b[39;00m \u001b[39merror_tarea\u001b[39;00m\n",
      "\u001b[0;31mErrorEnTarea\u001b[0m: Se encontro un error en otra_cosa."
     ]
    }
   ],
   "source": [
    "from azure.functions import QueueMessage\n",
    "\n",
    "queue_trigger = app.get_functions()[1].get_user_function()\n",
    "# simular la ejecucion de la tarea.\n",
    "queue_trigger(QueueMessage(body = bytes(\"otra_cosa\",  \"utf-8\")))"
   ]
  },
  {
   "cell_type": "code",
   "execution_count": null,
   "metadata": {},
   "outputs": [],
   "source": [
    "# simular la ejecucion de la tarea.\n",
    "queue_trigger(QueueMessage(body = bytes(\"otra_cosa\",  \"utf-8\")))"
   ]
  }
 ],
 "metadata": {
  "kernelspec": {
   "display_name": "Python 3.8.10 ('adl_utils')",
   "language": "python",
   "name": "python3"
  },
  "language_info": {
   "codemirror_mode": {
    "name": "ipython",
    "version": 3
   },
   "file_extension": ".py",
   "mimetype": "text/x-python",
   "name": "python",
   "nbconvert_exporter": "python",
   "pygments_lexer": "ipython3",
   "version": "3.8.10"
  },
  "orig_nbformat": 4,
  "vscode": {
   "interpreter": {
    "hash": "743db36a5e4e3179dc25f5e4accad7188f145bc728d3a3aad7b939caec0a0c20"
   }
  }
 },
 "nbformat": 4,
 "nbformat_minor": 2
}
