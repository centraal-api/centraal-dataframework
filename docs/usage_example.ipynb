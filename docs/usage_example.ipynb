{
 "cells": [
  {
   "cell_type": "code",
   "execution_count": 1,
   "metadata": {},
   "outputs": [],
   "source": [
    "%load_ext autoreload\n",
    "%autoreload 2"
   ]
  },
  {
   "cell_type": "code",
   "execution_count": 2,
   "metadata": {},
   "outputs": [],
   "source": [
    "# remover comentarios si sed quiere instalar la libreria \n",
    "# publicada en pipy\n",
    "#%pip uninstall azure-datalake-utils -y\n",
    "#%pip install -i https://test.pypi.org/simple/ --extra-index-url=https://pypi.org/simple azure-datalake-utils==0.2.0.dev23\n",
    "#%pip show azure-datalake-utils"
   ]
  },
  {
   "cell_type": "code",
   "execution_count": 3,
   "metadata": {},
   "outputs": [],
   "source": [
    "import logging\n",
    "import sys\n",
    "sys.path.append('../')\n",
    "logger = logging.getLogger()\n",
    "logger.setLevel(logging.INFO)"
   ]
  },
  {
   "cell_type": "code",
   "execution_count": 4,
   "metadata": {},
   "outputs": [
    {
     "data": {
      "text/plain": [
       "True"
      ]
     },
     "execution_count": 4,
     "metadata": {},
     "output_type": "execute_result"
    }
   ],
   "source": [
    "from dotenv import load_dotenv\n",
    "load_dotenv()"
   ]
  },
  {
   "cell_type": "code",
   "execution_count": 5,
   "metadata": {},
   "outputs": [],
   "source": [
    "import azure.functions as func \n",
    "from mod_test import *\n",
    "from centraal_dataframework.blueprints import framework\n",
    "\n",
    "app = func.FunctionApp() \n",
    "app.register_functions(framework)\n"
   ]
  },
  {
   "cell_type": "code",
   "execution_count": 6,
   "metadata": {},
   "outputs": [],
   "source": [
    "# Call the function.\n",
    "a = app.get_functions()\n"
   ]
  },
  {
   "cell_type": "code",
   "execution_count": 7,
   "metadata": {},
   "outputs": [],
   "source": [
    "trigger = a[1].get_user_function()"
   ]
  },
  {
   "cell_type": "code",
   "execution_count": 8,
   "metadata": {},
   "outputs": [
    {
     "name": "stderr",
     "output_type": "stream",
     "text": [
      "2023-10-09 10:00:43,479 - hello_datalake - INFO -    Unnamed: 0  Producto 2023-07-01 2023-08-01 2023-09-01 2023-10-01  \\\n",
      "0           0   9002263      237,0      700,0     3200,0     3200,0   \n",
      "\n",
      "  2023-11-01 2023-12-01 2024-01-01 2024-02-01 2024-03-01 2024-04-01  \\\n",
      "0     3200,0     2920,0     2920,0      398,0      336,0      295,0   \n",
      "\n",
      "  2024-05-01 2024-06-01  \n",
      "0      336,0      224,0  \n",
      "2023-10-09 10:00:43,489 - hello_datalake - INFO - hello there, iam a task\n"
     ]
    }
   ],
   "source": [
    "from azure.functions import QueueMessage\n",
    "msg= QueueMessage(body = bytes(\"hello_datalake\",  \"utf-8\"))\n",
    "trigger(msg)"
   ]
  }
 ],
 "metadata": {
  "kernelspec": {
   "display_name": "Python 3.8.10 ('adl_utils')",
   "language": "python",
   "name": "python3"
  },
  "language_info": {
   "codemirror_mode": {
    "name": "ipython",
    "version": 3
   },
   "file_extension": ".py",
   "mimetype": "text/x-python",
   "name": "python",
   "nbconvert_exporter": "python",
   "pygments_lexer": "ipython3",
   "version": "3.8.10"
  },
  "orig_nbformat": 4,
  "vscode": {
   "interpreter": {
    "hash": "743db36a5e4e3179dc25f5e4accad7188f145bc728d3a3aad7b939caec0a0c20"
   }
  }
 },
 "nbformat": 4,
 "nbformat_minor": 2
}
