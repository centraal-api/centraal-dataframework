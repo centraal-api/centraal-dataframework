{
 "cells": [
  {
   "cell_type": "code",
   "execution_count": 1,
   "metadata": {},
   "outputs": [],
   "source": [
    "import great_expectations as ge\n",
    "import pandas as pd\n",
    "from great_expectations.core.expectation_configuration import ExpectationConfiguration"
   ]
  },
  {
   "cell_type": "code",
   "execution_count": 2,
   "metadata": {},
   "outputs": [],
   "source": [
    "context = ge.get_context()"
   ]
  },
  {
   "cell_type": "code",
   "execution_count": 3,
   "metadata": {},
   "outputs": [
    {
     "data": {
      "text/plain": [
       "Index(['date', 'canal', 'category', 'subcategory', 'subcategory2',\n",
       "       'subcategory3', 'marca', 'modelo', 'sku', 'upc', 'item',\n",
       "       'item characteristics', 'url sku', 'image', 'price', 'sale price',\n",
       "       'shipment cost', 'sales flag', 'store id', 'store name',\n",
       "       'store address', 'stock', 'upc wm', 'final price', 'upc wm2', 'comp',\n",
       "       'composition', 'homogenized_clothing', 'homogenized_subcategory',\n",
       "       'homogenized_category', 'homogenized_color', 'made_in'],\n",
       "      dtype='object')"
      ]
     },
     "execution_count": 3,
     "metadata": {},
     "output_type": "execute_result"
    }
   ],
   "source": [
    "pand = pd.read_csv('C:\\\\Users\\\\Wilber\\\\Downloads\\\\datasetCrystal06102023.csv', sep=',',encoding='latin1')\n",
    "pand.columns"
   ]
  },
  {
   "cell_type": "code",
   "execution_count": 4,
   "metadata": {},
   "outputs": [
    {
     "data": {
      "text/plain": [
       "array(['Zara Colombia', 'Pull&Bear Colombia', 'Arturo Calle Colombia',\n",
       "       'H&M Colombia', 'Tennis Colombia', 'Polito Colombia',\n",
       "       'Mango Colombia', 'Offcorss Colombia', 'Bronzini Colombia'],\n",
       "      dtype=object)"
      ]
     },
     "execution_count": 4,
     "metadata": {},
     "output_type": "execute_result"
    }
   ],
   "source": [
    "pand.canal.unique()"
   ]
  },
  {
   "cell_type": "code",
   "execution_count": 5,
   "metadata": {},
   "outputs": [],
   "source": [
    "scrapping_ds        = context.sources.add_or_update_pandas(name='scrapping')\n",
    "scrapping_src_asset = scrapping_ds.add_dataframe_asset(f\"scrapping_df\")\n",
    "#for canal in pand.canal.unique():\n",
    "scrapping_batch     = scrapping_src_asset.build_batch_request(dataframe=pand)\n"
   ]
  },
  {
   "cell_type": "code",
   "execution_count": 6,
   "metadata": {},
   "outputs": [],
   "source": [
    "scrapping_suite = context.add_expectation_suite(expectation_suite_name=\"scrapping_suite_2\")\n",
    "#scrapping_suite = context.get_expectation_suite(expectation_suite_name=\"scrapping_suite_2\")\n",
    "# Primera expectativa - Se tienen 32 Columnas\n",
    "col_32_exp = ExpectationConfiguration(\n",
    "    expectation_type=\"expect_table_columns_to_match_set\",\n",
    "    kwargs={\n",
    "        \"column_set\": [\n",
    "            \"date\", \"canal\", \"category\", \"subcategory\", \"subcategory2\",\n",
    "            \"subcategory3\", \"marca\", \"modelo\", \"sku\", \"upc\", \"item\",\n",
    "            \"item characteristics\", \"url sku\", \"image\", \"price\", \"sale price\",\n",
    "            \"shipment cost\", \"sales flag\", \"store id\", \"store name\",\n",
    "            \"store address\", \"stock\", \"upc wm\", \"final price\", \"upc wm2\", \"comp\",\n",
    "            \"composition\", \"homogenized_clothing\", \"homogenized_subcategory\",\n",
    "            \"homogenized_category\", \"homogenized_color\", \"made_in\"\n",
    "        ]\n",
    "    },\n",
    "    meta={\n",
    "        \"notes\": {\n",
    "            \"format\": \"markdown\",\n",
    "            \"content\": \"**Archivo Fuente de Scrapping** `Valida el esquema del archivo de Scrapping`\",\n",
    "        }\n",
    "    },\n",
    ")\n",
    "scrapping_suite.add_expectation(expectation_configuration=col_32_exp)\n",
    "# Segunda expectativa - Formato de las fechas del archivo de Scrapping\n",
    "scrap_date_format =  ExpectationConfiguration(\n",
    "    expectation_type=\"expect_column_values_to_match_strftime_format\",\n",
    "    kwargs={\n",
    "        \"column\":         \"date\",\n",
    "        \"strftime_format\":\"YYYYMMDD\"\n",
    "    },\n",
    "    meta={\n",
    "        \"notes\": {\n",
    "            \"format\": \"markdown\",\n",
    "            \"content\": \"**Fecha Scrapping** `Valida el Formato de la Fecha de Scrapping`\",\n",
    "        }\n",
    "    },\n",
    ")\n",
    "# Adicionar expectativa\n",
    "scrapping_suite.add_expectation(expectation_configuration=scrap_date_format)\n",
    "context.save_expectation_suite(scrapping_suite)"
   ]
  },
  {
   "cell_type": "code",
   "execution_count": 11,
   "metadata": {},
   "outputs": [
    {
     "data": {
      "text/plain": [
       "{\n",
       "  \"anonymous_usage_statistics\": {\n",
       "    \"usage_statistics_url\": \"https://stats.greatexpectations.io/great_expectations/v1/usage_statistics\",\n",
       "    \"enabled\": true,\n",
       "    \"explicit_id\": true,\n",
       "    \"explicit_url\": false,\n",
       "    \"data_context_id\": \"19e1b072-80dc-4193-ae04-cc0fe5b7abcd\"\n",
       "  },\n",
       "  \"checkpoint_store_name\": \"checkpoint_store\",\n",
       "  \"config_version\": 3,\n",
       "  \"data_docs_sites\": {\n",
       "    \"local_site\": {\n",
       "      \"class_name\": \"SiteBuilder\",\n",
       "      \"show_how_to_buttons\": true,\n",
       "      \"store_backend\": {\n",
       "        \"class_name\": \"TupleFilesystemStoreBackend\",\n",
       "        \"base_directory\": \"C:\\\\Users\\\\Wilber\\\\AppData\\\\Local\\\\Temp\\\\tmpteln74rl\"\n",
       "      },\n",
       "      \"site_index_builder\": {\n",
       "        \"class_name\": \"DefaultSiteIndexBuilder\"\n",
       "      }\n",
       "    }\n",
       "  },\n",
       "  \"datasources\": {},\n",
       "  \"evaluation_parameter_store_name\": \"evaluation_parameter_store\",\n",
       "  \"expectations_store_name\": \"expectations_store\",\n",
       "  \"fluent_datasources\": {},\n",
       "  \"include_rendered_content\": {\n",
       "    \"globally\": false,\n",
       "    \"expectation_validation_result\": false,\n",
       "    \"expectation_suite\": false\n",
       "  },\n",
       "  \"profiler_store_name\": \"profiler_store\",\n",
       "  \"stores\": {\n",
       "    \"expectations_store\": {\n",
       "      \"class_name\": \"ExpectationsStore\",\n",
       "      \"store_backend\": {\n",
       "        \"class_name\": \"InMemoryStoreBackend\"\n",
       "      }\n",
       "    },\n",
       "    \"validations_store\": {\n",
       "      \"class_name\": \"ValidationsStore\",\n",
       "      \"store_backend\": {\n",
       "        \"class_name\": \"InMemoryStoreBackend\"\n",
       "      }\n",
       "    },\n",
       "    \"evaluation_parameter_store\": {\n",
       "      \"class_name\": \"EvaluationParameterStore\"\n",
       "    },\n",
       "    \"checkpoint_store\": {\n",
       "      \"class_name\": \"CheckpointStore\",\n",
       "      \"store_backend\": {\n",
       "        \"class_name\": \"InMemoryStoreBackend\"\n",
       "      }\n",
       "    },\n",
       "    \"profiler_store\": {\n",
       "      \"class_name\": \"ProfilerStore\",\n",
       "      \"store_backend\": {\n",
       "        \"class_name\": \"InMemoryStoreBackend\"\n",
       "      }\n",
       "    }\n",
       "  },\n",
       "  \"validations_store_name\": \"validations_store\"\n",
       "}"
      ]
     },
     "execution_count": 11,
     "metadata": {},
     "output_type": "execute_result"
    }
   ],
   "source": [
    "context"
   ]
  },
  {
   "cell_type": "code",
   "execution_count": 7,
   "metadata": {},
   "outputs": [],
   "source": [
    "validator = context.get_validator(\n",
    "    batch_request=scrapping_batch,\n",
    "    expectation_suite_name=\"scrapping_suite_2\",\n",
    ")"
   ]
  },
  {
   "cell_type": "code",
   "execution_count": 8,
   "metadata": {},
   "outputs": [],
   "source": [
    "scrapping_checkpoint = context.add_or_update_checkpoint(\n",
    "    name=\"scrapping_checkpoint\",\n",
    "    validations=[\n",
    "        {\n",
    "            \"batch_request\": scrapping_batch,\n",
    "            \"expectation_suite_name\": \"scrapping_suite_2\",\n",
    "        },\n",
    "    ],\n",
    ")"
   ]
  },
  {
   "cell_type": "code",
   "execution_count": 9,
   "metadata": {},
   "outputs": [
    {
     "data": {
      "application/vnd.jupyter.widget-view+json": {
       "model_id": "a8ec8cff1fa047b5b883ca6071c52fb5",
       "version_major": 2,
       "version_minor": 0
      },
      "text/plain": [
       "Calculating Metrics:   0%|          | 0/10 [00:00<?, ?it/s]"
      ]
     },
     "metadata": {},
     "output_type": "display_data"
    }
   ],
   "source": [
    "scrapping_checkpoint_result = scrapping_checkpoint.run()"
   ]
  },
  {
   "cell_type": "code",
   "execution_count": 10,
   "metadata": {},
   "outputs": [
    {
     "data": {
      "text/plain": [
       "{\n",
       "  \"run_id\": {\n",
       "    \"run_name\": null,\n",
       "    \"run_time\": \"2023-11-19T09:22:27.721889-05:00\"\n",
       "  },\n",
       "  \"run_results\": {\n",
       "    \"ValidationResultIdentifier::scrapping_suite_2/__none__/20231119T142227.721889Z/scrapping-scrapping_df\": {\n",
       "      \"validation_result\": {\n",
       "        \"success\": false,\n",
       "        \"results\": [\n",
       "          {\n",
       "            \"success\": true,\n",
       "            \"expectation_config\": {\n",
       "              \"expectation_type\": \"expect_table_columns_to_match_set\",\n",
       "              \"kwargs\": {\n",
       "                \"column_set\": [\n",
       "                  \"date\",\n",
       "                  \"canal\",\n",
       "                  \"category\",\n",
       "                  \"subcategory\",\n",
       "                  \"subcategory2\",\n",
       "                  \"subcategory3\",\n",
       "                  \"marca\",\n",
       "                  \"modelo\",\n",
       "                  \"sku\",\n",
       "                  \"upc\",\n",
       "                  \"item\",\n",
       "                  \"item characteristics\",\n",
       "                  \"url sku\",\n",
       "                  \"image\",\n",
       "                  \"price\",\n",
       "                  \"sale price\",\n",
       "                  \"shipment cost\",\n",
       "                  \"sales flag\",\n",
       "                  \"store id\",\n",
       "                  \"store name\",\n",
       "                  \"store address\",\n",
       "                  \"stock\",\n",
       "                  \"upc wm\",\n",
       "                  \"final price\",\n",
       "                  \"upc wm2\",\n",
       "                  \"comp\",\n",
       "                  \"composition\",\n",
       "                  \"homogenized_clothing\",\n",
       "                  \"homogenized_subcategory\",\n",
       "                  \"homogenized_category\",\n",
       "                  \"homogenized_color\",\n",
       "                  \"made_in\"\n",
       "                ],\n",
       "                \"batch_id\": \"scrapping-scrapping_df\"\n",
       "              },\n",
       "              \"meta\": {\n",
       "                \"notes\": {\n",
       "                  \"content\": \"**Archivo Fuente de Scrapping** `Valida el esquema del archivo de Scrapping`\",\n",
       "                  \"format\": \"markdown\"\n",
       "                }\n",
       "              }\n",
       "            },\n",
       "            \"result\": {\n",
       "              \"observed_value\": [\n",
       "                \"date\",\n",
       "                \"canal\",\n",
       "                \"category\",\n",
       "                \"subcategory\",\n",
       "                \"subcategory2\",\n",
       "                \"subcategory3\",\n",
       "                \"marca\",\n",
       "                \"modelo\",\n",
       "                \"sku\",\n",
       "                \"upc\",\n",
       "                \"item\",\n",
       "                \"item characteristics\",\n",
       "                \"url sku\",\n",
       "                \"image\",\n",
       "                \"price\",\n",
       "                \"sale price\",\n",
       "                \"shipment cost\",\n",
       "                \"sales flag\",\n",
       "                \"store id\",\n",
       "                \"store name\",\n",
       "                \"store address\",\n",
       "                \"stock\",\n",
       "                \"upc wm\",\n",
       "                \"final price\",\n",
       "                \"upc wm2\",\n",
       "                \"comp\",\n",
       "                \"composition\",\n",
       "                \"homogenized_clothing\",\n",
       "                \"homogenized_subcategory\",\n",
       "                \"homogenized_category\",\n",
       "                \"homogenized_color\",\n",
       "                \"made_in\"\n",
       "              ]\n",
       "            },\n",
       "            \"meta\": {},\n",
       "            \"exception_info\": {\n",
       "              \"raised_exception\": false,\n",
       "              \"exception_traceback\": null,\n",
       "              \"exception_message\": null\n",
       "            }\n",
       "          },\n",
       "          {\n",
       "            \"success\": false,\n",
       "            \"expectation_config\": {\n",
       "              \"expectation_type\": \"expect_column_values_to_match_strftime_format\",\n",
       "              \"kwargs\": {\n",
       "                \"column\": \"date\",\n",
       "                \"strftime_format\": \"YYYYMMDD\",\n",
       "                \"batch_id\": \"scrapping-scrapping_df\"\n",
       "              },\n",
       "              \"meta\": {\n",
       "                \"notes\": {\n",
       "                  \"content\": \"**Fecha Scrapping** `Valida el Formato de la Fecha de Scrapping`\",\n",
       "                  \"format\": \"markdown\"\n",
       "                }\n",
       "              }\n",
       "            },\n",
       "            \"result\": {\n",
       "              \"element_count\": 175868,\n",
       "              \"unexpected_count\": 175868,\n",
       "              \"unexpected_percent\": 100.0,\n",
       "              \"partial_unexpected_list\": [\n",
       "                \"05/10/2023\",\n",
       "                \"05/10/2023\",\n",
       "                \"05/10/2023\",\n",
       "                \"05/10/2023\",\n",
       "                \"05/10/2023\",\n",
       "                \"05/10/2023\",\n",
       "                \"05/10/2023\",\n",
       "                \"05/10/2023\",\n",
       "                \"05/10/2023\",\n",
       "                \"05/10/2023\",\n",
       "                \"05/10/2023\",\n",
       "                \"05/10/2023\",\n",
       "                \"05/10/2023\",\n",
       "                \"05/10/2023\",\n",
       "                \"05/10/2023\",\n",
       "                \"05/10/2023\",\n",
       "                \"05/10/2023\",\n",
       "                \"05/10/2023\",\n",
       "                \"05/10/2023\",\n",
       "                \"05/10/2023\"\n",
       "              ],\n",
       "              \"missing_count\": 0,\n",
       "              \"missing_percent\": 0.0,\n",
       "              \"unexpected_percent_total\": 100.0,\n",
       "              \"unexpected_percent_nonmissing\": 100.0,\n",
       "              \"partial_unexpected_index_list\": [\n",
       "                0,\n",
       "                1,\n",
       "                2,\n",
       "                3,\n",
       "                4,\n",
       "                5,\n",
       "                6,\n",
       "                7,\n",
       "                8,\n",
       "                9,\n",
       "                10,\n",
       "                11,\n",
       "                12,\n",
       "                13,\n",
       "                14,\n",
       "                15,\n",
       "                16,\n",
       "                17,\n",
       "                18,\n",
       "                19\n",
       "              ],\n",
       "              \"partial_unexpected_counts\": [\n",
       "                {\n",
       "                  \"value\": \"05/10/2023\",\n",
       "                  \"count\": 20\n",
       "                }\n",
       "              ]\n",
       "            },\n",
       "            \"meta\": {},\n",
       "            \"exception_info\": {\n",
       "              \"raised_exception\": false,\n",
       "              \"exception_traceback\": null,\n",
       "              \"exception_message\": null\n",
       "            }\n",
       "          }\n",
       "        ],\n",
       "        \"evaluation_parameters\": {},\n",
       "        \"statistics\": {\n",
       "          \"evaluated_expectations\": 2,\n",
       "          \"successful_expectations\": 1,\n",
       "          \"unsuccessful_expectations\": 1,\n",
       "          \"success_percent\": 50.0\n",
       "        },\n",
       "        \"meta\": {\n",
       "          \"great_expectations_version\": \"0.17.19\",\n",
       "          \"expectation_suite_name\": \"scrapping_suite_2\",\n",
       "          \"run_id\": {\n",
       "            \"run_name\": null,\n",
       "            \"run_time\": \"2023-11-19T09:22:27.721889-05:00\"\n",
       "          },\n",
       "          \"batch_spec\": {\n",
       "            \"batch_data\": \"PandasDataFrame\"\n",
       "          },\n",
       "          \"batch_markers\": {\n",
       "            \"ge_load_time\": \"20231119T142227.726958Z\",\n",
       "            \"pandas_data_fingerprint\": \"55f418177fb60be01a6549a543e7221d\"\n",
       "          },\n",
       "          \"active_batch_definition\": {\n",
       "            \"datasource_name\": \"scrapping\",\n",
       "            \"data_connector_name\": \"fluent\",\n",
       "            \"data_asset_name\": \"scrapping_df\",\n",
       "            \"batch_identifiers\": {}\n",
       "          },\n",
       "          \"validation_time\": \"20231119T142228.754798Z\",\n",
       "          \"checkpoint_name\": \"scrapping_checkpoint\",\n",
       "          \"validation_id\": null,\n",
       "          \"checkpoint_id\": null\n",
       "        }\n",
       "      },\n",
       "      \"actions_results\": {\n",
       "        \"store_validation_result\": {\n",
       "          \"class\": \"StoreValidationResultAction\"\n",
       "        },\n",
       "        \"store_evaluation_params\": {\n",
       "          \"class\": \"StoreEvaluationParametersAction\"\n",
       "        },\n",
       "        \"update_data_docs\": {\n",
       "          \"local_site\": \"file://C:\\\\Users\\\\Wilber\\\\AppData\\\\Local\\\\Temp\\\\tmpteln74rl\\\\validations%5Cscrapping_suite_2%5C__none__%5C20231119T142227.721889Z%5Cscrapping-scrapping_df.html\",\n",
       "          \"class\": \"UpdateDataDocsAction\"\n",
       "        }\n",
       "      }\n",
       "    }\n",
       "  },\n",
       "  \"checkpoint_config\": {\n",
       "    \"evaluation_parameters\": {},\n",
       "    \"expectation_suite_ge_cloud_id\": null,\n",
       "    \"slack_webhook\": null,\n",
       "    \"default_validation_id\": null,\n",
       "    \"expectation_suite_name\": null,\n",
       "    \"name\": \"scrapping_checkpoint\",\n",
       "    \"run_name_template\": null,\n",
       "    \"config_version\": 1.0,\n",
       "    \"class_name\": \"Checkpoint\",\n",
       "    \"site_names\": null,\n",
       "    \"module_name\": \"great_expectations.checkpoint\",\n",
       "    \"ge_cloud_id\": null,\n",
       "    \"batch_request\": {},\n",
       "    \"template_name\": null,\n",
       "    \"profilers\": [],\n",
       "    \"runtime_configuration\": {},\n",
       "    \"action_list\": [\n",
       "      {\n",
       "        \"name\": \"store_validation_result\",\n",
       "        \"action\": {\n",
       "          \"class_name\": \"StoreValidationResultAction\"\n",
       "        }\n",
       "      },\n",
       "      {\n",
       "        \"name\": \"store_evaluation_params\",\n",
       "        \"action\": {\n",
       "          \"class_name\": \"StoreEvaluationParametersAction\"\n",
       "        }\n",
       "      },\n",
       "      {\n",
       "        \"name\": \"update_data_docs\",\n",
       "        \"action\": {\n",
       "          \"class_name\": \"UpdateDataDocsAction\"\n",
       "        }\n",
       "      }\n",
       "    ],\n",
       "    \"validations\": [\n",
       "      {\n",
       "        \"id\": null,\n",
       "        \"expectation_suite_ge_cloud_id\": null,\n",
       "        \"expectation_suite_name\": \"scrapping_suite_2\",\n",
       "        \"name\": null,\n",
       "        \"batch_request\": {\n",
       "          \"datasource_name\": \"scrapping\",\n",
       "          \"data_asset_name\": \"scrapping_df\",\n",
       "          \"options\": {},\n",
       "          \"batch_slice\": null\n",
       "        }\n",
       "      }\n",
       "    ],\n",
       "    \"notify_with\": null,\n",
       "    \"notify_on\": null\n",
       "  },\n",
       "  \"success\": false\n",
       "}"
      ]
     },
     "execution_count": 10,
     "metadata": {},
     "output_type": "execute_result"
    }
   ],
   "source": [
    "scrapping_checkpoint_result"
   ]
  },
  {
   "cell_type": "code",
   "execution_count": null,
   "metadata": {},
   "outputs": [],
   "source": []
  },
  {
   "cell_type": "code",
   "execution_count": null,
   "metadata": {},
   "outputs": [],
   "source": []
  },
  {
   "cell_type": "code",
   "execution_count": null,
   "metadata": {},
   "outputs": [],
   "source": [
    "onboarding_result = context.assistants.onboarding.run(scrapping_batch)"
   ]
  },
  {
   "cell_type": "code",
   "execution_count": null,
   "metadata": {},
   "outputs": [],
   "source": [
    "onboarding_result.plot_expectations_and_metrics()"
   ]
  },
  {
   "cell_type": "code",
   "execution_count": null,
   "metadata": {},
   "outputs": [],
   "source": [
    "onboarding_result.show_expectations_by_domain_type()"
   ]
  },
  {
   "cell_type": "code",
   "execution_count": null,
   "metadata": {},
   "outputs": [],
   "source": [
    "onboarding_result.show_expectations_by_expectation_type()"
   ]
  },
  {
   "cell_type": "code",
   "execution_count": null,
   "metadata": {},
   "outputs": [],
   "source": [
    "missing_result = context.assistants.missingness.run(scrapping_batch)"
   ]
  },
  {
   "cell_type": "code",
   "execution_count": null,
   "metadata": {},
   "outputs": [],
   "source": [
    "missing_result.plot_expectations_and_metrics()"
   ]
  },
  {
   "cell_type": "code",
   "execution_count": null,
   "metadata": {},
   "outputs": [],
   "source": [
    "volum = context.assistants.volume.run(scrapping_batch)"
   ]
  },
  {
   "cell_type": "code",
   "execution_count": null,
   "metadata": {},
   "outputs": [],
   "source": [
    "volum.plot_expectations_and_metrics()"
   ]
  },
  {
   "cell_type": "code",
   "execution_count": null,
   "metadata": {},
   "outputs": [],
   "source": [
    "pand = pd.read_csv('C:\\\\Users\\\\Wilber\\\\Downloads\\\\homologaciones.csv')\n",
    "pand.columns\n"
   ]
  },
  {
   "cell_type": "code",
   "execution_count": null,
   "metadata": {},
   "outputs": [],
   "source": [
    "equiv_ds        = context.sources.add_or_update_pandas(name='homolog')\n",
    "equiv_asset = scrapping_ds.add_dataframe_asset(f\"homolog_asset\")\n",
    "equiv_batch     = scrapping_src_asset.build_batch_request(dataframe=pand)\n"
   ]
  },
  {
   "cell_type": "code",
   "execution_count": null,
   "metadata": {},
   "outputs": [],
   "source": [
    "homol = context.assistants.onboarding.run(equiv_batch)"
   ]
  },
  {
   "cell_type": "code",
   "execution_count": null,
   "metadata": {},
   "outputs": [],
   "source": [
    "homol.plot_expectations_and_metrics()"
   ]
  },
  {
   "cell_type": "code",
   "execution_count": null,
   "metadata": {},
   "outputs": [],
   "source": [
    "otallas_ds        = context.sources.add_or_update_pandas(name='otallas')\n",
    "otallas_asset = scrapping_ds.add_dataframe_asset(f\"otallas_asset\")\n",
    "otallas_batch     = scrapping_src_asset.build_batch_request(dataframe=pand)\n",
    "otallas = context.assistants.onboarding.run(otallas_batch)"
   ]
  },
  {
   "cell_type": "code",
   "execution_count": null,
   "metadata": {},
   "outputs": [],
   "source": [
    "otallas.plot_expectations_and_metrics()"
   ]
  },
  {
   "cell_type": "code",
   "execution_count": null,
   "metadata": {},
   "outputs": [],
   "source": [
    "pand = pd.read_csv('C:\\\\Users\\\\Wilber\\\\Downloads\\\\marcprop.csv')\n",
    "pand.columns"
   ]
  },
  {
   "cell_type": "code",
   "execution_count": null,
   "metadata": {},
   "outputs": [],
   "source": [
    "pand = pd.read_csv('C:\\\\Users\\\\Wilber\\\\Downloads\\\\marcprop.csv')\n",
    "mprop_ds        = context.sources.add_or_update_pandas(name='mprop')\n",
    "mprop_asset = mprop_ds.add_dataframe_asset(f\"mprop_asset\")\n",
    "mprop_batch     = scrapping_src_asset.build_batch_request(dataframe=pand)\n",
    "mprop = context.assistants.onboarding.run(mprop_batch)"
   ]
  },
  {
   "cell_type": "code",
   "execution_count": null,
   "metadata": {},
   "outputs": [],
   "source": [
    "mprop.plot_expectations_and_metrics()"
   ]
  },
  {
   "cell_type": "code",
   "execution_count": null,
   "metadata": {},
   "outputs": [],
   "source": []
  }
 ],
 "metadata": {
  "kernelspec": {
   "display_name": "Python 3",
   "language": "python",
   "name": "python3"
  },
  "language_info": {
   "codemirror_mode": {
    "name": "ipython",
    "version": 3
   },
   "file_extension": ".py",
   "mimetype": "text/x-python",
   "name": "python",
   "nbconvert_exporter": "python",
   "pygments_lexer": "ipython3",
   "version": "3.11.6"
  }
 },
 "nbformat": 4,
 "nbformat_minor": 2
}
