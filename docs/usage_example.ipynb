{
 "cells": [
  {
   "cell_type": "code",
   "execution_count": 1,
   "metadata": {},
   "outputs": [],
   "source": [
    "%load_ext autoreload\n",
    "%autoreload 2"
   ]
  },
  {
   "cell_type": "code",
   "execution_count": 2,
   "metadata": {},
   "outputs": [],
   "source": [
    "# remover comentarios si sed quiere instalar la libreria \n",
    "# publicada en pipy\n",
    "#%pip uninstall azure-datalake-utils -y\n",
    "#%pip install -i https://test.pypi.org/simple/ --extra-index-url=https://pypi.org/simple azure-datalake-utils==0.2.0.dev23\n",
    "#%pip show azure-datalake-utils"
   ]
  },
  {
   "cell_type": "code",
   "execution_count": 3,
   "metadata": {},
   "outputs": [],
   "source": [
    "import logging\n",
    "import sys\n",
    "sys.path.append('../')\n",
    "logger = logging.getLogger()\n",
    "logger.setLevel(logging.INFO)"
   ]
  },
  {
   "cell_type": "markdown",
   "metadata": {},
   "source": [
    "Asegurar crear primero el archivo `.env` con las siguientes variables de ambiente:\n",
    "```\n",
    "datalake=\"nombre_datalake_cuenta\"\n",
    "datalake_key=\"xxxkey_datalake_cuenta_zxccxxcx\"\n",
    "AZURE_STORAGE_CONNECTION_STRING=\"aaaa\"\n",
    "CONTENEDOR_VALIDACIONES=\"calidad-datos\" # debe existir en la cuenta.\n",
    "````"
   ]
  },
  {
   "cell_type": "code",
   "execution_count": 4,
   "metadata": {},
   "outputs": [
    {
     "data": {
      "text/plain": [
       "True"
      ]
     },
     "execution_count": 4,
     "metadata": {},
     "output_type": "execute_result"
    }
   ],
   "source": [
    "from dotenv import load_dotenv\n",
    "load_dotenv()"
   ]
  },
  {
   "cell_type": "code",
   "execution_count": 5,
   "metadata": {},
   "outputs": [],
   "source": [
    "from centraal_dataframework.resources import datalake\n",
    "info = datalake.read_csv(\"test/test_framework.csv\", sep=\"|\", decimal = \",\").drop(columns=['Unnamed: 0'])"
   ]
  },
  {
   "cell_type": "code",
   "execution_count": 6,
   "metadata": {},
   "outputs": [],
   "source": [
    "from great_expectations.core.expectation_configuration import ExpectationConfiguration\n",
    "from centraal_dataframework.tasks import task_dq\n",
    "\n",
    "@task_dq\n",
    "def hello_gx(datalake, gx_toolkit, logger):\n",
    "    \"\"\"Saluda al gx.\"\"\"\n",
    "    source = datalake.read_csv(\"test/test_framework.csv\", sep=\"|\")\n",
    "    logger.info(source.head(1))\n",
    "    logger.info(\"hello there, iam a task_dq using great expectations\")\n",
    "    # creaciones de expectativas\n",
    "    expectation_1 = ExpectationConfiguration(\n",
    "        expectation_type=\"expect_table_columns_to_match_set\",\n",
    "        kwargs={'column_set': ['Producto', '2023-07-01', '2023-08-01', '2023-09-01', '2023-10-01',\n",
    "        '2023-11-01', '2023-12-01', '2024-01-01', '2024-02-01', '2024-03-01',\n",
    "        '2024-04-01', '2024-05-01', '2024-06-01']},\n",
    "        meta={\n",
    "            \"notes\": {\n",
    "                \"format\": \"markdown\",\n",
    "                \"content\": \"Ejemplo de expectativa\",\n",
    "            }\n",
    "        },\n",
    "    )\n",
    "    expectation_2 = ExpectationConfiguration(\n",
    "        expectation_type = \"expect_column_values_to_not_be_null\",\n",
    "        kwargs = {\"column\" : \"Producto\"} \n",
    "    )\n",
    "\n",
    "    expectation_3 = ExpectationConfiguration(\n",
    "        expectation_type = \"expect_table_row_count_to_be_between\",\n",
    "        kwargs = {\"max_value\" : 160, \"min_value\": 131},\n",
    "        meta={\n",
    "            \"notes\": {\n",
    "                \"format\": \"markdown\",\n",
    "                \"content\": \"**Ejemplo de expectativa** que va fallar\",\n",
    "            }\n",
    "        }\n",
    "    )\n",
    "    url = gx_toolkit.run_expectations_on_df(source, \"test\", [expectation_1, expectation_2, expectation_3])\n",
    "    print(\"reporte de expectativas\", url)"
   ]
  },
  {
   "cell_type": "code",
   "execution_count": 8,
   "metadata": {},
   "outputs": [
    {
     "name": "stderr",
     "output_type": "stream",
     "text": [
      "TAREA: hello_gx--2023-10-23 10:57:01,532-INFO-   Unnamed: 0  Producto 2023-07-01 2023-08-01 2023-09-01 2023-10-01  \\\n",
      "0           0   9002263      237,0      700,0     3200,0     3200,0   \n",
      "\n",
      "  2023-11-01 2023-12-01 2024-01-01 2024-02-01 2024-03-01 2024-04-01  \\\n",
      "0     3200,0     2920,0     2920,0      398,0      336,0      295,0   \n",
      "\n",
      "  2024-05-01 2024-06-01  \n",
      "0      336,0      224,0  \n",
      "TAREA: hello_gx--2023-10-23 10:57:01,532-INFO-   Unnamed: 0  Producto 2023-07-01 2023-08-01 2023-09-01 2023-10-01  \\\n",
      "0           0   9002263      237,0      700,0     3200,0     3200,0   \n",
      "\n",
      "  2023-11-01 2023-12-01 2024-01-01 2024-02-01 2024-03-01 2024-04-01  \\\n",
      "0     3200,0     2920,0     2920,0      398,0      336,0      295,0   \n",
      "\n",
      "  2024-05-01 2024-06-01  \n",
      "0      336,0      224,0  \n",
      "TAREA: hello_gx--2023-10-23 10:57:01,549-INFO-hello there, iam a task_dq using great expectations\n",
      "TAREA: hello_gx--2023-10-23 10:57:01,549-INFO-hello there, iam a task_dq using great expectations\n"
     ]
    },
    {
     "data": {
      "application/vnd.jupyter.widget-view+json": {
       "model_id": "9792fcf7d61644da89c72657282dae55",
       "version_major": 2,
       "version_minor": 0
      },
      "text/plain": [
       "Calculating Metrics:   0%|          | 0/8 [00:00<?, ?it/s]"
      ]
     },
     "metadata": {},
     "output_type": "display_data"
    },
    {
     "name": "stdout",
     "output_type": "stream",
     "text": [
      "reporte de expectativas https://centraaldl.z13.web.core.windows.net/validations/hello_gx_expectation_suite/__none__/20231023T155701.835505Z/hello_gx_source-hello_gx_source_test.html\n"
     ]
    }
   ],
   "source": [
    "hello_gx()"
   ]
  },
  {
   "cell_type": "markdown",
   "metadata": {},
   "source": [
    "Crear el modulo con la logica, en la siguiente celda se configura una logica de pandas."
   ]
  },
  {
   "cell_type": "code",
   "execution_count": 5,
   "metadata": {},
   "outputs": [
    {
     "name": "stdout",
     "output_type": "stream",
     "text": [
      "Overwriting logica_pandas.py\n"
     ]
    }
   ],
   "source": [
    "%%writefile logica_pandas.py\n",
    "\"\"\"Prueba.\"\"\"\n",
    "from centraal_dataframework.tasks import task\n",
    "\n",
    "\n",
    "@task\n",
    "def hello_datalake(datalake, logger):\n",
    "    \"\"\"Saluda al datalake.\"\"\"\n",
    "    source = datalake.read_csv(\"test/test_framework.csv\", sep=\"|\")\n",
    "    logger.info(source.head(1))\n",
    "    logger.info(\"hello there, iam a task\")\n"
   ]
  },
  {
   "cell_type": "markdown",
   "metadata": {},
   "source": [
    "O puedes crear una estructura mas compleja de modulos. en la siguiente celda se crea un modulo dentro de otra carpeta y se usa un decorador para poder usar great expectations."
   ]
  },
  {
   "cell_type": "code",
   "execution_count": 6,
   "metadata": {},
   "outputs": [
    {
     "name": "stdout",
     "output_type": "stream",
     "text": [
      "mkdir: cannot create directory ‘modulo’: File exists\n"
     ]
    }
   ],
   "source": [
    "%mkdir modulo"
   ]
  },
  {
   "cell_type": "code",
   "execution_count": 7,
   "metadata": {},
   "outputs": [
    {
     "name": "stdout",
     "output_type": "stream",
     "text": [
      "Overwriting modulo/__init__.py\n"
     ]
    }
   ],
   "source": [
    "%%writefile modulo/__init__.py\n",
    "\"\"\"Prueba.\"\"\""
   ]
  },
  {
   "cell_type": "code",
   "execution_count": 8,
   "metadata": {},
   "outputs": [
    {
     "name": "stdout",
     "output_type": "stream",
     "text": [
      "Overwriting modulo/logica_gx.py\n"
     ]
    }
   ],
   "source": [
    "%%writefile modulo/logica_gx.py\n",
    "\"\"\"Prueba gx.\"\"\"\n",
    "from great_expectations.core.expectation_configuration import ExpectationConfiguration\n",
    "from centraal_dataframework.tasks import task_dq\n",
    "\n",
    "\n",
    "@task_dq\n",
    "def hello_gx(datalake, gx_toolkit, logger):\n",
    "    \"\"\"Saluda al gx.\"\"\"\n",
    "    source = datalake.read_csv(\"test/test_framework.csv\", sep=\"|\")\n",
    "    logger.info(source.head(1))\n",
    "    logger.info(\"hello there, iam a task_dq using great expectations\")\n",
    "    # creaciones de expectativas\n",
    "    expectation_1 = ExpectationConfiguration(\n",
    "        expectation_type=\"expect_table_columns_to_match_set\",\n",
    "        kwargs={'column_set': ['Producto', '2023-07-01', '2023-08-01', '2023-09-01', '2023-10-01',\n",
    "        '2023-11-01', '2023-12-01', '2024-01-01', '2024-02-01', '2024-03-01',\n",
    "        '2024-04-01', '2024-05-01', '2024-06-01']},\n",
    "        meta={\n",
    "            \"notes\": {\n",
    "                \"format\": \"markdown\",\n",
    "                \"content\": \"Ejemplo de expectativa\",\n",
    "            }\n",
    "        },\n",
    "    )\n",
    "    expectation_2 = ExpectationConfiguration(\n",
    "        expectation_type = \"expect_column_values_to_not_be_null\",\n",
    "        kwargs = {\"column\" : \"Producto\"} \n",
    "    )\n",
    "\n",
    "    expectation_3 = ExpectationConfiguration(\n",
    "        expectation_type = \"expect_table_row_count_to_be_between\",\n",
    "        kwargs = {\"max_value\" : 160, \"min_value\": 131},\n",
    "        meta={\n",
    "            \"notes\": {\n",
    "                \"format\": \"markdown\",\n",
    "                \"content\": \"**Ejemplo de expectativa** que va fallar\",\n",
    "            }\n",
    "        }\n",
    "    )\n",
    "    url = gx_toolkit.run_expectations_on_df(source, \"test\", [expectation_1, expectation_2, expectation_3])\n",
    "    print(\"reporte de expectativas\", url)\n"
   ]
  },
  {
   "cell_type": "markdown",
   "metadata": {},
   "source": [
    "A continuación un se muestra el contenido que debe tener `function_app.py`"
   ]
  },
  {
   "cell_type": "code",
   "execution_count": 9,
   "metadata": {},
   "outputs": [],
   "source": [
    "# contenido de function_app.py\n",
    "import azure.functions as func\n",
    "from centraal_dataframework.blueprints import framework\n",
    "# se deben importar las funciones, ejemplo todas las funciones dentro\n",
    "# de uno\n",
    "from logica_pandas import *\n",
    "# o se pueden importar uno a uno\n",
    "from modulo.logica_gx import hello_gx\n",
    "from modulo.logica_gx import hello_gx_negocio\n",
    "\n",
    "app = func.FunctionApp()\n",
    "# se agrega el framework:\n",
    "app.register_functions(framework)"
   ]
  },
  {
   "cell_type": "markdown",
   "metadata": {},
   "source": [
    "Realizar test dentro del notebook."
   ]
  },
  {
   "cell_type": "code",
   "execution_count": 10,
   "metadata": {},
   "outputs": [
    {
     "name": "stderr",
     "output_type": "stream",
     "text": [
      "se presento error en otra_cosa\n",
      "Traceback (most recent call last):\n",
      "  File \"/home/german/repos/centraal-dataframework/centraal_dataframework/blueprints.py\", line 62, in execute_tasks_inqueue\n",
      "    func_to_execute()\n",
      "TypeError: 'NoneType' object is not callable\n"
     ]
    },
    {
     "ename": "ErrorEnTarea",
     "evalue": "Se encontro un error en otra_cosa.",
     "output_type": "error",
     "traceback": [
      "\u001b[0;31m---------------------------------------------------------------------------\u001b[0m",
      "\u001b[0;31mTypeError\u001b[0m                                 Traceback (most recent call last)",
      "File \u001b[0;32m~/repos/centraal-dataframework/centraal_dataframework/blueprints.py:62\u001b[0m, in \u001b[0;36mexecute_tasks_inqueue\u001b[0;34m(msg)\u001b[0m\n\u001b[1;32m     61\u001b[0m \u001b[39mtry\u001b[39;00m:\n\u001b[0;32m---> 62\u001b[0m     func_to_execute()\n\u001b[1;32m     63\u001b[0m \u001b[39mexcept\u001b[39;00m \u001b[39mException\u001b[39;00m \u001b[39mas\u001b[39;00m error_tarea:\n",
      "\u001b[0;31mTypeError\u001b[0m: 'NoneType' object is not callable",
      "\nThe above exception was the direct cause of the following exception:\n",
      "\u001b[0;31mErrorEnTarea\u001b[0m                              Traceback (most recent call last)",
      "\u001b[1;32m/home/german/repos/centraal-dataframework/docs/usage_example.ipynb Cell 15\u001b[0m line \u001b[0;36m5\n\u001b[1;32m      <a href='vscode-notebook-cell://wsl%2Bubuntu/home/german/repos/centraal-dataframework/docs/usage_example.ipynb#W5sdnNjb2RlLXJlbW90ZQ%3D%3D?line=2'>3</a>\u001b[0m queue_trigger \u001b[39m=\u001b[39m app\u001b[39m.\u001b[39mget_functions()[\u001b[39m1\u001b[39m]\u001b[39m.\u001b[39mget_user_function()\n\u001b[1;32m      <a href='vscode-notebook-cell://wsl%2Bubuntu/home/german/repos/centraal-dataframework/docs/usage_example.ipynb#W5sdnNjb2RlLXJlbW90ZQ%3D%3D?line=3'>4</a>\u001b[0m \u001b[39m# simular la ejecucion de la tarea.\u001b[39;00m\n\u001b[0;32m----> <a href='vscode-notebook-cell://wsl%2Bubuntu/home/german/repos/centraal-dataframework/docs/usage_example.ipynb#W5sdnNjb2RlLXJlbW90ZQ%3D%3D?line=4'>5</a>\u001b[0m queue_trigger(QueueMessage(body \u001b[39m=\u001b[39;49m \u001b[39mbytes\u001b[39;49m(\u001b[39m\"\u001b[39;49m\u001b[39motra_cosa\u001b[39;49m\u001b[39m\"\u001b[39;49m,  \u001b[39m\"\u001b[39;49m\u001b[39mutf-8\u001b[39;49m\u001b[39m\"\u001b[39;49m)))\n",
      "File \u001b[0;32m~/repos/centraal-dataframework/centraal_dataframework/blueprints.py:66\u001b[0m, in \u001b[0;36mexecute_tasks_inqueue\u001b[0;34m(msg)\u001b[0m\n\u001b[1;32m     64\u001b[0m logger\u001b[39m.\u001b[39merror(\u001b[39m\"\u001b[39m\u001b[39mse presento error en \u001b[39m\u001b[39m%s\u001b[39;00m\u001b[39m\"\u001b[39m, task_name, exc_info\u001b[39m=\u001b[39m\u001b[39mTrue\u001b[39;00m)\n\u001b[1;32m     65\u001b[0m \u001b[39m# TODO: enviar correo\u001b[39;00m\n\u001b[0;32m---> 66\u001b[0m \u001b[39mraise\u001b[39;00m ErrorEnTarea(task_name) \u001b[39mfrom\u001b[39;00m \u001b[39merror_tarea\u001b[39;00m\n",
      "\u001b[0;31mErrorEnTarea\u001b[0m: Se encontro un error en otra_cosa."
     ]
    }
   ],
   "source": [
    "from azure.functions import QueueMessage\n",
    "\n",
    "queue_trigger = app.get_functions()[1].get_user_function()\n",
    "# simular la ejecucion de la tarea.\n",
    "queue_trigger(QueueMessage(body = bytes(\"otra_cosa\",  \"utf-8\")))"
   ]
  },
  {
   "cell_type": "code",
   "execution_count": null,
   "metadata": {},
   "outputs": [],
   "source": [
    "# simular la ejecucion de la tarea.\n",
    "queue_trigger(QueueMessage(body = bytes(\"otra_cosa\",  \"utf-8\")))"
   ]
  }
 ],
 "metadata": {
  "kernelspec": {
   "display_name": "Python 3.8.10 ('adl_utils')",
   "language": "python",
   "name": "python3"
  },
  "language_info": {
   "codemirror_mode": {
    "name": "ipython",
    "version": 3
   },
   "file_extension": ".py",
   "mimetype": "text/x-python",
   "name": "python",
   "nbconvert_exporter": "python",
   "pygments_lexer": "ipython3",
   "version": "3.8.10"
  },
  "orig_nbformat": 4,
  "vscode": {
   "interpreter": {
    "hash": "743db36a5e4e3179dc25f5e4accad7188f145bc728d3a3aad7b939caec0a0c20"
   }
  }
 },
 "nbformat": 4,
 "nbformat_minor": 2
}
