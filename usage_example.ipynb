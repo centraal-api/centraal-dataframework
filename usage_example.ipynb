{
 "cells": [
  {
   "cell_type": "code",
   "execution_count": null,
   "metadata": {},
   "outputs": [],
   "source": [
    "%load_ext autoreload\n",
    "%autoreload 2"
   ]
  },
  {
   "cell_type": "code",
   "execution_count": null,
   "metadata": {},
   "outputs": [],
   "source": [
    "import logging\n",
    "import sys\n",
    "sys.path.append('../')\n",
    "logger = logging.getLogger()\n",
    "logger.setLevel(logging.INFO)"
   ]
  },
  {
   "cell_type": "markdown",
   "metadata": {},
   "source": [
    "Asegurar crear primero el archivo `.env` con las siguientes variables de ambiente:\n",
    "```\n",
    "AZURE_STORAGE_CONNECTION_STRING=\"aaaa\"\n",
    "CONTENEDOR_VALIDACIONES=\"calidad-datos\" # debe existir en la cuenta.\n",
    "````"
   ]
  },
  {
   "cell_type": "code",
   "execution_count": null,
   "metadata": {},
   "outputs": [],
   "source": [
    "from dotenv import load_dotenv\n",
    "load_dotenv()"
   ]
  },
  {
   "cell_type": "code",
   "execution_count": null,
   "metadata": {},
   "outputs": [],
   "source": [
    "from great_expectations.core.expectation_configuration import ExpectationConfiguration\n",
    "from centraal_dataframework.tasks import task_dq\n",
    "\n",
    "@task_dq\n",
    "def hello_gx(datalake, gx_toolkit, logger):\n",
    "    \"\"\"Saluda al gx.\"\"\"\n",
    "    source = datalake.read_csv(\"test/test_framework.csv\", sep=\"|\")\n",
    "    logger.info(source.head(1))\n",
    "    logger.info(\"hello there, iam a task_dq using great expectations\")\n",
    "    # creaciones de expectativas\n",
    "    expectation_1 = ExpectationConfiguration(\n",
    "        expectation_type=\"expect_table_columns_to_match_set\",\n",
    "        kwargs={'column_set': ['Producto', '2023-07-01', '2023-08-01', '2023-09-01', '2023-10-01',\n",
    "        '2023-11-01', '2023-12-01', '2024-01-01', '2024-02-01', '2024-03-01',\n",
    "        '2024-04-01', '2024-05-01', '2024-06-01']},\n",
    "        meta={\n",
    "            \"notes\": {\n",
    "                \"format\": \"markdown\",\n",
    "                \"content\": \"Ejemplo de expectativa\",\n",
    "            }\n",
    "        },\n",
    "    )\n",
    "    expectation_2 = ExpectationConfiguration(\n",
    "        expectation_type = \"expect_column_values_to_not_be_null\",\n",
    "        kwargs = {\"column\" : \"Producto\"} \n",
    "    )\n",
    "\n",
    "    expectation_3 = ExpectationConfiguration(\n",
    "        expectation_type = \"expect_table_row_count_to_be_between\",\n",
    "        kwargs = {\"max_value\" : 160, \"min_value\": 131},\n",
    "        meta={\n",
    "            \"notes\": {\n",
    "                \"format\": \"markdown\",\n",
    "                \"content\": \"**Ejemplo de expectativa** que va fallar\",\n",
    "            }\n",
    "        }\n",
    "    )\n",
    "    url = gx_toolkit.run_expectations_on_df(source, \"test\", [expectation_1, expectation_2, expectation_3])\n",
    "    print(\"reporte de expectativas\", url)"
   ]
  },
  {
   "cell_type": "code",
   "execution_count": null,
   "metadata": {},
   "outputs": [],
   "source": [
    "hello_gx()"
   ]
  },
  {
   "cell_type": "markdown",
   "metadata": {},
   "source": [
    "Tambien se puede cargar expectativas desde un json almacenado."
   ]
  },
  {
   "cell_type": "code",
   "execution_count": null,
   "metadata": {},
   "outputs": [],
   "source": [
    "from centraal_dataframework.tasks import task_dq\n",
    "\n",
    "@task_dq\n",
    "def hello_gx_file(datalake, gx_toolkit, logger):\n",
    "    \"\"\"Saluda al gx.\"\"\"\n",
    "    source = datalake.read_csv(\"test/test_framework.csv\", sep=\"|\")\n",
    "    logger.info(\"hello there, iam a task_dq using great expectations from a file\")\n",
    "    # creaciones de expectativas\n",
    "    url = gx_toolkit.run_expectation_file_on_df(source, \"test\", \"hello_gx_expectation_suite_json\")\n",
    "    print(\"reporte de expectativas\", url)"
   ]
  },
  {
   "cell_type": "code",
   "execution_count": null,
   "metadata": {},
   "outputs": [],
   "source": [
    "hello_gx_file()"
   ]
  },
  {
   "cell_type": "markdown",
   "metadata": {},
   "source": [
    "Crear el modulo con la logica, en la siguiente celda se configura una logica de pandas."
   ]
  },
  {
   "cell_type": "code",
   "execution_count": null,
   "metadata": {},
   "outputs": [],
   "source": [
    "%%writefile logica_pandas.py\n",
    "\"\"\"Prueba.\"\"\"\n",
    "from centraal_dataframework.tasks import task\n",
    "\n",
    "\n",
    "@task\n",
    "def hello_datalake(datalake, logger):\n",
    "    \"\"\"Saluda al datalake.\"\"\"\n",
    "    source = datalake.read_csv(\"test/test_framework.csv\", sep=\"|\")\n",
    "    logger.info(source.head(1))\n",
    "    logger.info(\"hello there, iam a task\")\n"
   ]
  },
  {
   "cell_type": "markdown",
   "metadata": {},
   "source": [
    "O puedes crear una estructura mas compleja de modulos. En la siguiente celda se crea un modulo dentro de otra carpeta y se usa un decorador para poder usar great expectations."
   ]
  },
  {
   "cell_type": "code",
   "execution_count": null,
   "metadata": {},
   "outputs": [],
   "source": [
    "%mkdir modulo"
   ]
  },
  {
   "cell_type": "code",
   "execution_count": null,
   "metadata": {},
   "outputs": [],
   "source": [
    "%%writefile modulo/__init__.py\n",
    "\"\"\"Prueba.\"\"\""
   ]
  },
  {
   "cell_type": "code",
   "execution_count": null,
   "metadata": {},
   "outputs": [],
   "source": [
    "%%writefile modulo/logica_gx.py\n",
    "\"\"\"Prueba gx.\"\"\"\n",
    "from great_expectations.core.expectation_configuration import ExpectationConfiguration\n",
    "from centraal_dataframework.tasks import task_dq\n",
    "\n",
    "\n",
    "@task_dq\n",
    "def hello_gx(datalake, gx_toolkit, logger):\n",
    "    \"\"\"Saluda al gx.\"\"\"\n",
    "    source = datalake.read_csv(\"test/test_framework.csv\", sep=\"|\")\n",
    "    logger.info(source.head(1))\n",
    "    logger.info(\"hello there, iam a task_dq using great expectations\")\n",
    "    # creaciones de expectativas\n",
    "    expectation_1 = ExpectationConfiguration(\n",
    "        expectation_type=\"expect_table_columns_to_match_set\",\n",
    "        kwargs={'column_set': ['Producto', '2023-07-01', '2023-08-01', '2023-09-01', '2023-10-01',\n",
    "        '2023-11-01', '2023-12-01', '2024-01-01', '2024-02-01', '2024-03-01',\n",
    "        '2024-04-01', '2024-05-01', '2024-06-01']},\n",
    "        meta={\n",
    "            \"notes\": {\n",
    "                \"format\": \"markdown\",\n",
    "                \"content\": \"Ejemplo de expectativa\",\n",
    "            }\n",
    "        },\n",
    "    )\n",
    "    expectation_2 = ExpectationConfiguration(\n",
    "        expectation_type = \"expect_column_values_to_not_be_null\",\n",
    "        kwargs = {\"column\" : \"Producto\"} \n",
    "    )\n",
    "\n",
    "    expectation_3 = ExpectationConfiguration(\n",
    "        expectation_type = \"expect_table_row_count_to_be_between\",\n",
    "        kwargs = {\"max_value\" : 160, \"min_value\": 131},\n",
    "        meta={\n",
    "            \"notes\": {\n",
    "                \"format\": \"markdown\",\n",
    "                \"content\": \"**Ejemplo de expectativa** que va fallar\",\n",
    "            }\n",
    "        }\n",
    "    )\n",
    "    url = gx_toolkit.run_expectations_on_df(source, \"test\", [expectation_1, expectation_2, expectation_3])\n",
    "    print(\"reporte de expectativas\", url)\n"
   ]
  },
  {
   "cell_type": "markdown",
   "metadata": {},
   "source": [
    "A continuación un se muestra el contenido que debe tener `function_app.py`"
   ]
  },
  {
   "cell_type": "code",
   "execution_count": null,
   "metadata": {},
   "outputs": [],
   "source": [
    "# contenido de function_app.py\n",
    "import azure.functions as func\n",
    "from centraal_dataframework.blueprints import framework\n",
    "# se deben importar las funciones, ejemplo todas las funciones dentro\n",
    "# de uno\n",
    "from logica_pandas import *\n",
    "# o se pueden importar uno a uno\n",
    "from modulo.logica_gx import hello_gx\n",
    "from modulo.logica_gx import hello_gx_negocio\n",
    "\n",
    "app = func.FunctionApp()\n",
    "# se agrega el framework:\n",
    "app.register_functions(framework)"
   ]
  },
  {
   "cell_type": "markdown",
   "metadata": {},
   "source": [
    "Realizar test dentro del notebook."
   ]
  },
  {
   "cell_type": "code",
   "execution_count": null,
   "metadata": {},
   "outputs": [],
   "source": [
    "from azure.functions import QueueMessage\n",
    "\n",
    "queue_trigger = app.get_functions()[1].get_user_function()\n",
    "# simular la ejecucion de la tarea.\n",
    "queue_trigger(QueueMessage(body = bytes(\"otra_cosa\",  \"utf-8\")))"
   ]
  },
  {
   "cell_type": "code",
   "execution_count": null,
   "metadata": {},
   "outputs": [],
   "source": [
    "# simular la ejecucion de la tarea.\n",
    "queue_trigger(QueueMessage(body = bytes(\"otra_cosa\",  \"utf-8\")))"
   ]
  }
 ],
 "metadata": {
  "kernelspec": {
   "display_name": "Python 3.8.10 ('adl_utils')",
   "language": "python",
   "name": "python3"
  },
  "language_info": {
   "codemirror_mode": {
    "name": "ipython",
    "version": 3
   },
   "file_extension": ".py",
   "mimetype": "text/x-python",
   "name": "python",
   "nbconvert_exporter": "python",
   "pygments_lexer": "ipython3",
   "version": "3.8.10"
  },
  "orig_nbformat": 4,
  "vscode": {
   "interpreter": {
    "hash": "743db36a5e4e3179dc25f5e4accad7188f145bc728d3a3aad7b939caec0a0c20"
   }
  }
 },
 "nbformat": 4,
 "nbformat_minor": 2
}
